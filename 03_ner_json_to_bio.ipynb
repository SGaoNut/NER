{
 "cells": [
  {
   "cell_type": "markdown",
   "metadata": {},
   "source": [
    "## 1. 文本特征抽取 \n",
    "    这里部分特征是基于词的，我们基于字识别，可参考ner iobes体系，将词特征转为字特征\n",
    "\n",
    "### 1). 词性特征\n",
    "    将词性信息转化为特征-> S-w:单独的词 B-w:词的开头 I-w:词的中间 E-w:词的结尾\n",
    "    例如：武汉分公司与\n",
    "\n",
    "    假设词性:武汉/ns\n",
    "            分公司/n\n",
    "            近日/t\n",
    "            与/p\n",
    "            \n",
    "    特征为:\n",
    "            武\tB-ns\n",
    "            汉\tE-ns\n",
    "            分\tB-n\n",
    "            公\tI-n\n",
    "            司 \tE-n\n",
    "            近\tB-t\n",
    "            日\tE-t\n",
    "            与\tS-p\n",
    "### 2). 其他特征\n",
    "     其他，如字形、笔画、拼音、专用字典等特征。或用正则表达式发现模式，符合模式的抽取为特征。"
   ]
  },
  {
   "cell_type": "code",
   "execution_count": 1,
   "metadata": {},
   "outputs": [
    {
     "name": "stderr",
     "output_type": "stream",
     "text": [
      "Building prefix dict from the default dictionary ...\n",
      "Loading model from cache /var/folders/96/0jnny1gj02j8pgfvb9by368m0000gn/T/jieba.cache\n",
      "Loading model cost 0.624 seconds.\n",
      "Prefix dict has been built successfully.\n"
     ]
    }
   ],
   "source": [
    "import jieba\n",
    "import jieba.posseg as pseg\n",
    "\n",
    "jieba.initialize()\n",
    "\n",
    "import warnings\n",
    "warnings.filterwarnings('ignore')"
   ]
  },
  {
   "cell_type": "code",
   "execution_count": 2,
   "metadata": {},
   "outputs": [],
   "source": [
    "sentence = \"中国电信武汉分公司近日与公安、交管部门展开深入合作\""
   ]
  },
  {
   "cell_type": "code",
   "execution_count": 3,
   "metadata": {},
   "outputs": [
    {
     "name": "stdout",
     "output_type": "stream",
     "text": [
      "词 \t| 词性\n",
      "————————————————\n",
      "中国电信 \t| nt\n",
      "武汉 \t| ns\n",
      "分公司 \t| n\n",
      "近日 \t| t\n",
      "与 \t| p\n",
      "公安 \t| n\n",
      "、 \t| x\n",
      "交管部门 \t| n\n",
      "展开 \t| v\n",
      "深入 \t| v\n",
      "合作 \t| vn\n"
     ]
    }
   ],
   "source": [
    "print('词', '\\t|', '词性')\n",
    "print('————————————————')\n",
    "for (word, flag) in pseg.cut(sentence):\n",
    "    print(word, '\\t|', flag)"
   ]
  },
  {
   "cell_type": "code",
   "execution_count": 8,
   "metadata": {},
   "outputs": [
    {
     "ename": "KeyboardInterrupt",
     "evalue": "",
     "output_type": "error",
     "traceback": [
      "\u001B[0;31m---------------------------------------------------------------------------\u001B[0m",
      "\u001B[0;31mKeyboardInterrupt\u001B[0m                         Traceback (most recent call last)",
      "\u001B[0;32m/var/folders/96/0jnny1gj02j8pgfvb9by368m0000gn/T/ipykernel_33852/4095665359.py\u001B[0m in \u001B[0;36m<module>\u001B[0;34m\u001B[0m\n\u001B[1;32m     12\u001B[0m     \u001B[0;32mreturn\u001B[0m \u001B[0mposseg_list\u001B[0m\u001B[0;34m\u001B[0m\u001B[0;34m\u001B[0m\u001B[0m\n\u001B[1;32m     13\u001B[0m \u001B[0;34m\u001B[0m\u001B[0m\n\u001B[0;32m---> 14\u001B[0;31m \u001B[0mposseg_list\u001B[0m \u001B[0;34m=\u001B[0m \u001B[0mget_word_posseg_feature\u001B[0m\u001B[0;34m(\u001B[0m\u001B[0msentence\u001B[0m\u001B[0;34m)\u001B[0m\u001B[0;34m\u001B[0m\u001B[0;34m\u001B[0m\u001B[0m\n\u001B[0m\u001B[1;32m     15\u001B[0m \u001B[0;34m\u001B[0m\u001B[0m\n",
      "\u001B[0;32m/var/folders/96/0jnny1gj02j8pgfvb9by368m0000gn/T/ipykernel_33852/4095665359.py\u001B[0m in \u001B[0;36mget_word_posseg_feature\u001B[0;34m(sentence)\u001B[0m\n\u001B[1;32m      3\u001B[0m     \u001B[0mposseg_list\u001B[0m \u001B[0;34m=\u001B[0m \u001B[0;34m[\u001B[0m\u001B[0;34m]\u001B[0m\u001B[0;34m\u001B[0m\u001B[0;34m\u001B[0m\u001B[0m\n\u001B[1;32m      4\u001B[0m     \u001B[0;32mfor\u001B[0m \u001B[0;34m(\u001B[0m\u001B[0mword\u001B[0m\u001B[0;34m,\u001B[0m \u001B[0mflag\u001B[0m\u001B[0;34m)\u001B[0m \u001B[0;32min\u001B[0m \u001B[0mpseg\u001B[0m\u001B[0;34m.\u001B[0m\u001B[0mcut\u001B[0m\u001B[0;34m(\u001B[0m\u001B[0msentence\u001B[0m\u001B[0;34m)\u001B[0m\u001B[0;34m:\u001B[0m\u001B[0;34m\u001B[0m\u001B[0;34m\u001B[0m\u001B[0m\n\u001B[0;32m----> 5\u001B[0;31m         \u001B[0;32mif\u001B[0m \u001B[0mlen\u001B[0m\u001B[0;34m(\u001B[0m\u001B[0mword\u001B[0m\u001B[0;34m)\u001B[0m \u001B[0;34m==\u001B[0m \u001B[0;36m1\u001B[0m\u001B[0;34m:\u001B[0m\u001B[0;34m\u001B[0m\u001B[0;34m\u001B[0m\u001B[0m\n\u001B[0m\u001B[1;32m      6\u001B[0m             \u001B[0mposseg_list\u001B[0m\u001B[0;34m.\u001B[0m\u001B[0mappend\u001B[0m\u001B[0;34m(\u001B[0m\u001B[0;34m'S-'\u001B[0m \u001B[0;34m+\u001B[0m \u001B[0mflag\u001B[0m\u001B[0;34m)\u001B[0m\u001B[0;34m\u001B[0m\u001B[0;34m\u001B[0m\u001B[0m\n\u001B[1;32m      7\u001B[0m         \u001B[0;32melse\u001B[0m\u001B[0;34m:\u001B[0m\u001B[0;34m\u001B[0m\u001B[0;34m\u001B[0m\u001B[0m\n",
      "\u001B[0;32m/var/folders/96/0jnny1gj02j8pgfvb9by368m0000gn/T/ipykernel_33852/4095665359.py\u001B[0m in \u001B[0;36mget_word_posseg_feature\u001B[0;34m(sentence)\u001B[0m\n\u001B[1;32m      3\u001B[0m     \u001B[0mposseg_list\u001B[0m \u001B[0;34m=\u001B[0m \u001B[0;34m[\u001B[0m\u001B[0;34m]\u001B[0m\u001B[0;34m\u001B[0m\u001B[0;34m\u001B[0m\u001B[0m\n\u001B[1;32m      4\u001B[0m     \u001B[0;32mfor\u001B[0m \u001B[0;34m(\u001B[0m\u001B[0mword\u001B[0m\u001B[0;34m,\u001B[0m \u001B[0mflag\u001B[0m\u001B[0;34m)\u001B[0m \u001B[0;32min\u001B[0m \u001B[0mpseg\u001B[0m\u001B[0;34m.\u001B[0m\u001B[0mcut\u001B[0m\u001B[0;34m(\u001B[0m\u001B[0msentence\u001B[0m\u001B[0;34m)\u001B[0m\u001B[0;34m:\u001B[0m\u001B[0;34m\u001B[0m\u001B[0;34m\u001B[0m\u001B[0m\n\u001B[0;32m----> 5\u001B[0;31m         \u001B[0;32mif\u001B[0m \u001B[0mlen\u001B[0m\u001B[0;34m(\u001B[0m\u001B[0mword\u001B[0m\u001B[0;34m)\u001B[0m \u001B[0;34m==\u001B[0m \u001B[0;36m1\u001B[0m\u001B[0;34m:\u001B[0m\u001B[0;34m\u001B[0m\u001B[0;34m\u001B[0m\u001B[0m\n\u001B[0m\u001B[1;32m      6\u001B[0m             \u001B[0mposseg_list\u001B[0m\u001B[0;34m.\u001B[0m\u001B[0mappend\u001B[0m\u001B[0;34m(\u001B[0m\u001B[0;34m'S-'\u001B[0m \u001B[0;34m+\u001B[0m \u001B[0mflag\u001B[0m\u001B[0;34m)\u001B[0m\u001B[0;34m\u001B[0m\u001B[0;34m\u001B[0m\u001B[0m\n\u001B[1;32m      7\u001B[0m         \u001B[0;32melse\u001B[0m\u001B[0;34m:\u001B[0m\u001B[0;34m\u001B[0m\u001B[0;34m\u001B[0m\u001B[0m\n",
      "\u001B[0;32m_pydevd_bundle/pydevd_cython_darwin_38_64.pyx\u001B[0m in \u001B[0;36m_pydevd_bundle.pydevd_cython_darwin_38_64.SafeCallWrapper.__call__\u001B[0;34m()\u001B[0m\n",
      "\u001B[0;32m_pydevd_bundle/pydevd_cython_darwin_38_64.pyx\u001B[0m in \u001B[0;36m_pydevd_bundle.pydevd_cython_darwin_38_64.PyDBFrame.trace_dispatch\u001B[0;34m()\u001B[0m\n",
      "\u001B[0;32m_pydevd_bundle/pydevd_cython_darwin_38_64.pyx\u001B[0m in \u001B[0;36m_pydevd_bundle.pydevd_cython_darwin_38_64.PyDBFrame.trace_dispatch\u001B[0;34m()\u001B[0m\n",
      "\u001B[0;32m_pydevd_bundle/pydevd_cython_darwin_38_64.pyx\u001B[0m in \u001B[0;36m_pydevd_bundle.pydevd_cython_darwin_38_64.PyDBFrame.trace_dispatch\u001B[0;34m()\u001B[0m\n",
      "\u001B[0;32m_pydevd_bundle/pydevd_cython_darwin_38_64.pyx\u001B[0m in \u001B[0;36m_pydevd_bundle.pydevd_cython_darwin_38_64.PyDBFrame.do_wait_suspend\u001B[0;34m()\u001B[0m\n",
      "\u001B[0;32m/Applications/PyCharm.app/Contents/plugins/python/helpers/pydev/pydevd.py\u001B[0m in \u001B[0;36mdo_wait_suspend\u001B[0;34m(self, thread, frame, event, arg, send_suspend_message, is_unhandled_exception)\u001B[0m\n\u001B[1;32m   1145\u001B[0m \u001B[0;34m\u001B[0m\u001B[0m\n\u001B[1;32m   1146\u001B[0m         \u001B[0;32mwith\u001B[0m \u001B[0mself\u001B[0m\u001B[0;34m.\u001B[0m\u001B[0m_threads_suspended_single_notification\u001B[0m\u001B[0;34m.\u001B[0m\u001B[0mnotify_thread_suspended\u001B[0m\u001B[0;34m(\u001B[0m\u001B[0mthread_id\u001B[0m\u001B[0;34m,\u001B[0m \u001B[0mstop_reason\u001B[0m\u001B[0;34m)\u001B[0m\u001B[0;34m:\u001B[0m\u001B[0;34m\u001B[0m\u001B[0;34m\u001B[0m\u001B[0m\n\u001B[0;32m-> 1147\u001B[0;31m             \u001B[0mself\u001B[0m\u001B[0;34m.\u001B[0m\u001B[0m_do_wait_suspend\u001B[0m\u001B[0;34m(\u001B[0m\u001B[0mthread\u001B[0m\u001B[0;34m,\u001B[0m \u001B[0mframe\u001B[0m\u001B[0;34m,\u001B[0m \u001B[0mevent\u001B[0m\u001B[0;34m,\u001B[0m \u001B[0marg\u001B[0m\u001B[0;34m,\u001B[0m \u001B[0msuspend_type\u001B[0m\u001B[0;34m,\u001B[0m \u001B[0mfrom_this_thread\u001B[0m\u001B[0;34m)\u001B[0m\u001B[0;34m\u001B[0m\u001B[0;34m\u001B[0m\u001B[0m\n\u001B[0m\u001B[1;32m   1148\u001B[0m \u001B[0;34m\u001B[0m\u001B[0m\n\u001B[1;32m   1149\u001B[0m     \u001B[0;32mdef\u001B[0m \u001B[0m_do_wait_suspend\u001B[0m\u001B[0;34m(\u001B[0m\u001B[0mself\u001B[0m\u001B[0;34m,\u001B[0m \u001B[0mthread\u001B[0m\u001B[0;34m,\u001B[0m \u001B[0mframe\u001B[0m\u001B[0;34m,\u001B[0m \u001B[0mevent\u001B[0m\u001B[0;34m,\u001B[0m \u001B[0marg\u001B[0m\u001B[0;34m,\u001B[0m \u001B[0msuspend_type\u001B[0m\u001B[0;34m,\u001B[0m \u001B[0mfrom_this_thread\u001B[0m\u001B[0;34m)\u001B[0m\u001B[0;34m:\u001B[0m\u001B[0;34m\u001B[0m\u001B[0;34m\u001B[0m\u001B[0m\n",
      "\u001B[0;32m/Applications/PyCharm.app/Contents/plugins/python/helpers/pydev/pydevd.py\u001B[0m in \u001B[0;36m_do_wait_suspend\u001B[0;34m(self, thread, frame, event, arg, suspend_type, from_this_thread)\u001B[0m\n\u001B[1;32m   1160\u001B[0m \u001B[0;34m\u001B[0m\u001B[0m\n\u001B[1;32m   1161\u001B[0m                 \u001B[0mself\u001B[0m\u001B[0;34m.\u001B[0m\u001B[0mprocess_internal_commands\u001B[0m\u001B[0;34m(\u001B[0m\u001B[0;34m)\u001B[0m\u001B[0;34m\u001B[0m\u001B[0;34m\u001B[0m\u001B[0m\n\u001B[0;32m-> 1162\u001B[0;31m                 \u001B[0mtime\u001B[0m\u001B[0;34m.\u001B[0m\u001B[0msleep\u001B[0m\u001B[0;34m(\u001B[0m\u001B[0;36m0.01\u001B[0m\u001B[0;34m)\u001B[0m\u001B[0;34m\u001B[0m\u001B[0;34m\u001B[0m\u001B[0m\n\u001B[0m\u001B[1;32m   1163\u001B[0m \u001B[0;34m\u001B[0m\u001B[0m\n\u001B[1;32m   1164\u001B[0m         \u001B[0mself\u001B[0m\u001B[0;34m.\u001B[0m\u001B[0mcancel_async_evaluation\u001B[0m\u001B[0;34m(\u001B[0m\u001B[0mget_current_thread_id\u001B[0m\u001B[0;34m(\u001B[0m\u001B[0mthread\u001B[0m\u001B[0;34m)\u001B[0m\u001B[0;34m,\u001B[0m \u001B[0mstr\u001B[0m\u001B[0;34m(\u001B[0m\u001B[0mid\u001B[0m\u001B[0;34m(\u001B[0m\u001B[0mframe\u001B[0m\u001B[0;34m)\u001B[0m\u001B[0;34m)\u001B[0m\u001B[0;34m)\u001B[0m\u001B[0;34m\u001B[0m\u001B[0;34m\u001B[0m\u001B[0m\n",
      "\u001B[0;31mKeyboardInterrupt\u001B[0m: "
     ]
    }
   ],
   "source": [
    "def get_word_posseg_feature(sentence):\n",
    "    posseg_list = []\n",
    "    for (word, flag) in pseg.cut(sentence):\n",
    "        if len(word) == 1:\n",
    "            posseg_list.append('S-' + flag)\n",
    "        else:\n",
    "            posseg_list.append('B-' + flag)\n",
    "            for _ in word[1:-1]:\n",
    "                posseg_list.append('I-' + flag)                \n",
    "            posseg_list.append('E-' + flag)\n",
    "    return posseg_list\n",
    "\n",
    "posseg_list = get_word_posseg_feature(sentence)"
   ]
  },
  {
   "cell_type": "code",
   "execution_count": 9,
   "metadata": {},
   "outputs": [
    {
     "name": "stdout",
     "output_type": "stream",
     "text": [
      "中\tB-nt\n",
      "国\tI-nt\n",
      "电\tI-nt\n",
      "信\tE-nt\n",
      "武\tB-ns\n",
      "汉\tE-ns\n",
      "分\tB-n\n",
      "公\tI-n\n",
      "司\tE-n\n",
      "近\tB-t\n",
      "日\tE-t\n",
      "与\tS-p\n",
      "公\tB-n\n",
      "安\tE-n\n",
      "、\tS-x\n",
      "交\tB-n\n",
      "管\tI-n\n",
      "部\tI-n\n",
      "门\tE-n\n",
      "展\tB-v\n",
      "开\tE-v\n",
      "深\tB-v\n",
      "入\tE-v\n",
      "合\tB-vn\n",
      "作\tE-vn\n"
     ]
    }
   ],
   "source": [
    "for index, w in enumerate(sentence):\n",
    "    print('\\t'.join([w, posseg_list[index]]))"
   ]
  },
  {
   "cell_type": "markdown",
   "metadata": {},
   "source": [
    "### 2. json to bio\n",
    "#### 为使用机器学习方法进行NER，将json对象的标注文件转化为bio标签\n",
    "        中\tB-company\n",
    "        国\tI-company\n",
    "        电\tI-company\n",
    "        信\tI-company\n",
    "        武\tI-company\n",
    "        汉\tI-company\n",
    "        分\tI-company\n",
    "        公\tI-company\n",
    "        司\tI-company\n",
    "        近\tO\n",
    "        日\tO\n",
    "        与\tO\n",
    "        公\tB-government\n",
    "        安\tI-government\n",
    "        、\tO\n",
    "        交\tB-government\n",
    "        管\tI-government\n",
    "        部\tI-government\n",
    "        门\tI-government\n",
    "        展\tO\n",
    "        开\tO\n",
    "        深\tO\n",
    "        入\tO\n",
    "        合\tO\n",
    "        作\tO\n",
    "####  将json文件中所有句子转为bio形式，各个句子之间空行隔开"
   ]
  },
  {
   "cell_type": "code",
   "execution_count": 10,
   "metadata": {},
   "outputs": [],
   "source": [
    "import os\n",
    "import json\n",
    "import codecs\n",
    "\n",
    "import util"
   ]
  },
  {
   "cell_type": "code",
   "execution_count": 11,
   "metadata": {},
   "outputs": [],
   "source": [
    "bio_data_folder = './bio'"
   ]
  },
  {
   "cell_type": "code",
   "execution_count": 8,
   "metadata": {
    "scrolled": true
   },
   "outputs": [
    {
     "name": "stdout",
     "output_type": "stream",
     "text": [
      "训练集大小:\t10748\n",
      "测试集大小:\t1343\n"
     ]
    }
   ],
   "source": [
    "train_path = './clue/train.json'\n",
    "test_path = './clue/test.json'\n",
    "\n",
    "train_samples = util.read_json(train_path)\n",
    "test_samples = util.read_json(test_path)\n",
    "\n",
    "print(f'训练集大小:\\t{len(train_samples)}')\n",
    "print(f'测试集大小:\\t{len(test_samples)}')"
   ]
  },
  {
   "cell_type": "code",
   "execution_count": 9,
   "metadata": {},
   "outputs": [],
   "source": [
    "# 将一条样本转化为bio序列\n",
    "def sample_to_bio(sample):\n",
    "    text = sample['text']\n",
    "    label = sample['label']\n",
    "    # 初始化所有样本的bio序列为O\n",
    "    tag_list = ['O'] * len(text)\n",
    "\n",
    "    for tag, tag_items in label.items():\n",
    "        # 获取所有实体标签\n",
    "        for tag_text, tag_index in tag_items.items():\n",
    "            beg, end = tag_index[0]\n",
    "            end += 1\n",
    "            # 做文本内容校验\n",
    "            assert text[beg: end] == tag_text, (text[beg: end], tag_text)\n",
    "        # 如果实体长度为1，那么只有1个B标签\n",
    "        if end - beg == 1:\n",
    "            tag_list[beg] = 'B-' + tag\n",
    "        else:   # 实体长度大于1，则开头为B，后面全为I标签\n",
    "            tag_list[beg] = 'B-' + tag\n",
    "            for i in range(beg + 1, end):  \n",
    "                tag_list[i] = 'I-' + tag\n",
    "    # 获取pos tag特征\n",
    "    posseg_list = get_word_posseg_feature(text)\n",
    "    # 将BIO标签序列 按行拼接\n",
    "    bio_text = '\\n'.join([' '.join([text[index], posseg_list[index], tag_list[index]]) \n",
    "                            for index in range(len(text))])\n",
    "    return bio_text\n",
    "\n",
    "\n",
    "def samples_to_bios(samples):\n",
    "    # 转化所有的样本为bio标签，每个样本即每个句子用空行隔开\n",
    "    bios = '\\n\\n'.join([sample_to_bio(sample) for sample in samples])\n",
    "    return bios\n",
    "\n",
    "test_bios = samples_to_bios(test_samples)\n",
    "print(test_bios[:190])"
   ]
  },
  {
   "cell_type": "code",
   "execution_count": 11,
   "metadata": {},
   "outputs": [],
   "source": [
    "# 提取训练集与测试集的bio序列\n",
    "for json_file in [train_path, test_path]:\n",
    "    samples = util.read_json(json_file)\n",
    "    bios = samples_to_bios(samples)\n",
    "    bios_file = os.path.join(bio_data_folder, os.path.basename(json_file)[:-4] + 'bio')\n",
    "    with codecs.open(bios_file, 'w', encoding='utf-8') as f:\n",
    "        f.write(bios)"
   ]
  },
  {
   "cell_type": "code",
   "execution_count": 12,
   "metadata": {},
   "outputs": [
    {
     "name": "stdout",
     "output_type": "stream",
     "text": [
      "test.bio  train.bio\r\n"
     ]
    }
   ],
   "source": [
    "!ls ./bio"
   ]
  },
  {
   "cell_type": "code",
   "execution_count": null,
   "metadata": {},
   "outputs": [],
   "source": []
  }
 ],
 "metadata": {
  "kernelspec": {
   "name": "pycharm-b35e09b3",
   "language": "python",
   "display_name": "PyCharm (Chapter.4)"
  },
  "language_info": {
   "codemirror_mode": {
    "name": "ipython",
    "version": 3
   },
   "file_extension": ".py",
   "mimetype": "text/x-python",
   "name": "python",
   "nbconvert_exporter": "python",
   "pygments_lexer": "ipython3",
   "version": "3.8.10"
  }
 },
 "nbformat": 4,
 "nbformat_minor": 2
}