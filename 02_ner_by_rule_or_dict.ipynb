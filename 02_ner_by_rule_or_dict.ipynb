{
 "cells": [
  {
   "cell_type": "markdown",
   "metadata": {},
   "source": [
    "## 基于规则或词典的信息抽取\n",
    "### 1. 规则：\n",
    "    对于有一定规律的实体或一定结构的文本，使用正则表达式进行模式匹配，抽取其中的实体。如：\n",
    "        邮箱：[a-zA-Z0-9_-]+@[a-zA-Z0-9_-]+(?:\\.[a-zA-Z0-9_-]+)\n",
    "        手机号：1(3|4|5|6|7|8|9)\\d{9}\n",
    "        身份证号：[1-9]\\d{5}(18|19|([23]\\d))\\d{2}((0[1-9])|(10|11|12))(([0-2][1-9])|10|20|30|31)\\d{3}[0-9Xx]\n",
    "    其他实体也可以总结规律编写相应的正则表达式。"
   ]
  },
  {
   "cell_type": "code",
   "execution_count": 1,
   "metadata": {},
   "outputs": [],
   "source": [
    "import re\n",
    "\n",
    "# 手机号码的正则表达式\n",
    "phone_pattern = '1(3|4|5|6|7|8|9)\\d{9}'\n",
    "# 编译正则\n",
    "phone_re = re.compile(phone_pattern)\n",
    "\n",
    "def find_fre(text):\n",
    "    fres = []\n",
    "    # 找到所有匹配的结果\n",
    "    for x in phone_re.finditer(text):\n",
    "        beg, end = x.span()\n",
    "        end = end + 1\n",
    "        context = x.group()\n",
    "        fres.append((beg, end, context))\n",
    "    return fres"
   ]
  },
  {
   "cell_type": "code",
   "execution_count": 2,
   "metadata": {},
   "outputs": [
    {
     "name": "stdout",
     "output_type": "stream",
     "text": [
      "请拨打13512519088\n",
      "[(3, 15, '13512519088')]\n",
      "我的电话号码13966121988\n",
      "[(6, 18, '13966121988')]\n"
     ]
    }
   ],
   "source": [
    "sentences = ['请拨打13512519088',\n",
    "             '我的电话号码13966121988']\n",
    "\n",
    "for sentence in sentences:\n",
    "    fres = find_fre(sentence)\n",
    "    print(sentence)\n",
    "    print(fres)"
   ]
  },
  {
   "cell_type": "markdown",
   "metadata": {},
   "source": [
    "### 2. 词典：\n",
    "    对于内容比较固定、变化较少的实体，使用ac自动机进行搜索。如：   \n",
    "        银行：招商银行、工商银行；     \n",
    "        电影名：《海角七号》、《查理的战争》、《生化危机4》；  \n",
    "        固定的英文缩写：dota、dota2、war3\n",
    "    使用词典的方式，前提是有高质量的领域词典\n",
    "    也可以根据已标注的实体，整理出对应的词典\n",
    "    AC自动机匹配出来的有重叠实体，可以根据实体长度选取长度最长的实体或者其他策略进行选择"
   ]
  },
  {
   "cell_type": "code",
   "execution_count": 3,
   "metadata": {},
   "outputs": [],
   "source": [
    "import ahocorasick\n",
    "\n",
    "# 整理出的词表\n",
    "banks = ['招商银行', '工商银行', '交通银行', '农业银行', '中国人民银行', '兴业银行', '浦发银行']\n",
    "movies = ['《海角七号》', '《查理的战争》', '《生化危机4》', '《纳尼亚传奇2》', '《夺宝奇兵4》']\n",
    "\n",
    "# 创建词典\n",
    "word_dict = {}\n",
    "for w in banks:\n",
    "    word_dict[w] = 'company'\n",
    "for w in movies:\n",
    "    word_dict[w] = 'movie'\n",
    "words = list(word_dict.keys())\n",
    "\n",
    "# 构建AC自动机\n",
    "AC = ahocorasick.Automaton()\n",
    "for idx, key in enumerate(words):\n",
    "    AC.add_word(key, (idx, key))\n",
    "AC.make_automaton()"
   ]
  },
  {
   "cell_type": "code",
   "execution_count": 4,
   "metadata": {},
   "outputs": [],
   "source": [
    "# 对文本使用ac进行全匹配\n",
    "def ac_search(text, ac, word_dict):\n",
    "    entitys = []\n",
    "    for end, (_, word) in ac.iter(text):\n",
    "        beg = end - len(word) + 1\n",
    "        tag = word_dict[word]\n",
    "        entitys.append((beg, end + 1, tag, word))\n",
    "    return entitys"
   ]
  },
  {
   "cell_type": "code",
   "execution_count": 5,
   "metadata": {
    "scrolled": true
   },
   "outputs": [
    {
     "name": "stdout",
     "output_type": "stream",
     "text": [
      "交通银行创始于1908年，为中国六大银行之一。\n",
      "[(0, 4, 'company', '交通银行')]\n",
      "《纳尼亚传奇2》是由安德鲁·亚当森执导，安德鲁·亚当森和克里斯托弗·马库斯共同担任编剧\n",
      "[(0, 8, 'movie', '《纳尼亚传奇2》')]\n"
     ]
    }
   ],
   "source": [
    "sentences = ['交通银行创始于1908年，为中国六大银行之一。',\n",
    "             '《纳尼亚传奇2》是由安德鲁·亚当森执导，安德鲁·亚当森和克里斯托弗·马库斯共同担任编剧']\n",
    "\n",
    "for sentence in sentences:\n",
    "    entitys = ac_search(sentence, AC, word_dict)\n",
    "    print(sentence)\n",
    "    print(entitys)"
   ]
  }
 ],
 "metadata": {
  "kernelspec": {
   "name": "pycharm-b35e09b3",
   "language": "python",
   "display_name": "PyCharm (Chapter.4)"
  },
  "language_info": {
   "codemirror_mode": {
    "name": "ipython",
    "version": 3
   },
   "file_extension": ".py",
   "mimetype": "text/x-python",
   "name": "python",
   "nbconvert_exporter": "python",
   "pygments_lexer": "ipython3",
   "version": "3.8.10"
  }
 },
 "nbformat": 4,
 "nbformat_minor": 2
}