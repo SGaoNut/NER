{
 "cells": [
  {
   "cell_type": "markdown",
   "metadata": {},
   "source": [
    "## CLUENER 细粒度命名实体识别\n",
    "https://github.com/CLUEbenchmark/CLUENER2020\n",
    "\n",
    "### 1. 标签类别定义 & 标注规则：\n",
    "\n",
    "- 地址（address）: **省**市**区**街**号，**路，**街道，**村等（如单独出现也标记）。地址是标记尽量完全的, 标记到最细。   \n",
    "- 书名（book）: 小说，杂志，习题集，教科书，教辅，地图册，食谱，书店里能买到的一类书籍，包含电子书。   \n",
    "- 公司（company）: **公司，**集团，**银行（央行，中国人民银行除外，二者属于政府机构）, 如：新东方，包含新华网/中国军网等。   \n",
    "- 游戏（game）: 常见的游戏，注意有一些从小说，电视剧改编的游戏，要分析具体场景到底是不是游戏。    \n",
    "- 政府（government）: 包括中央行政机关和地方行政机关两级。 中央行政机关有国务院、国务院组成部门（包括各部、委员会、中国人民银行和审计署）、国务院直属机构（如海关、税务、工商、环保总局等），军队等。   \n",
    "- 电影（movie）: 电影，也包括拍的一些在电影院上映的纪录片，如果是根据书名改编成电影，要根据场景上下文着重区分下是电影名字还是书名。    \n",
    "- 姓名（name）: 一般指人名，也包括小说里面的人物，宋江，武松，郭靖，小说里面的人物绰号：及时雨，花和尚，著名人物的别称，通过这个别称能对应到某个具体人物。   \n",
    "- 组织机构（organization）: 篮球队，足球队，乐团，社团等，另外包含小说里面的帮派如：少林寺，丐帮，铁掌帮，武当，峨眉等。   \n",
    "- 职位（position）: 古时候的职称：巡抚，知州，国师等。现代的总经理，记者，总裁，艺术家，收藏家等。   \n",
    "- 景点（scene）: 常见旅游景点如：长沙公园，深圳动物园，海洋馆，植物园，黄河，长江等。   "
   ]
  },
  {
   "cell_type": "code",
   "execution_count": 4,
   "metadata": {},
   "outputs": [
    {
     "name": "stdout",
     "output_type": "stream",
     "text": [
      "\u001B[31mtest.json\u001B[m\u001B[m  \u001B[31mtrain.json\u001B[m\u001B[m\r\n"
     ]
    }
   ],
   "source": [
    "!ls ./clue"
   ]
  },
  {
   "cell_type": "code",
   "execution_count": 6,
   "metadata": {},
   "outputs": [
    {
     "name": "stderr",
     "output_type": "stream",
     "text": [
      "Building prefix dict from the default dictionary ...\n",
      "Loading model from cache /var/folders/96/0jnny1gj02j8pgfvb9by368m0000gn/T/jieba.cache\n",
      "Loading model cost 0.583 seconds.\n",
      "Prefix dict has been built successfully.\n"
     ]
    }
   ],
   "source": [
    "import json\n",
    "\n",
    "import util\n",
    "\n",
    "import warnings\n",
    "warnings.filterwarnings('ignore')"
   ]
  },
  {
   "cell_type": "code",
   "execution_count": 7,
   "metadata": {
    "scrolled": true
   },
   "outputs": [
    {
     "name": "stdout",
     "output_type": "stream",
     "text": [
      "训练集大小:\t10748\n",
      "测试集大小:\t1343\n"
     ]
    }
   ],
   "source": [
    "train_path = './clue/train.json'\n",
    "test_path = './clue/test.json'\n",
    "\n",
    "train_samples = util.read_json(train_path)\n",
    "test_samples = util.read_json(test_path)\n",
    "\n",
    "print(f'训练集大小:\\t{len(train_samples)}')\n",
    "print(f'测试集大小:\\t{len(test_samples)}')"
   ]
  },
  {
   "cell_type": "code",
   "execution_count": 8,
   "metadata": {},
   "outputs": [
    {
     "data": {
      "text/plain": "{'text': '彭小军认为，国内银行现在走的是台湾的发卡模式，先通过跑马圈地再在圈的地里面选择客户，',\n 'label': {'address': {'台湾': [[15, 16]]}, 'name': {'彭小军': [[0, 2]]}}}"
     },
     "execution_count": 8,
     "metadata": {},
     "output_type": "execute_result"
    }
   ],
   "source": [
    "test_samples[0]"
   ]
  },
  {
   "cell_type": "markdown",
   "metadata": {},
   "source": [
    "### 2. 标签数据分布\n",
    "按照不同标签类别统计\n",
    "（注：一条数据中出现的所有实体都进行标注，如果一条数据出现两个地址（address）实体，\n",
    "那么统计地址（address）类别数据的时候，算两条数据）"
   ]
  },
  {
   "cell_type": "code",
   "execution_count": 9,
   "metadata": {},
   "outputs": [],
   "source": [
    "%matplotlib inline\n",
    "import pandas as pd\n",
    "import seaborn as sns\n",
    "import matplotlib.pyplot as plt\n",
    "import numpy as np\n",
    "from collections import defaultdict\n",
    "\n"
   ]
  },
  {
   "cell_type": "code",
   "execution_count": 36,
   "metadata": {},
   "outputs": [
    {
     "data": {
      "text/plain": "(10, 10)"
     },
     "execution_count": 36,
     "metadata": {},
     "output_type": "execute_result"
    }
   ],
   "source": [
    "# 分别获取每个标签出现的次数\n",
    "def get_tag_count(samples):\n",
    "    tag_count = defaultdict(int)\n",
    "    for sample in samples:\n",
    "        label = sample['label']\n",
    "        for tag, tag_list in label.items():\n",
    "            tag_count[tag] += len(tag_list)\n",
    "    return tag_count\n",
    "\n",
    "\n",
    "train_tag_count = get_tag_count(train_samples)\n",
    "test_tag_count = get_tag_count(test_samples)\n",
    "\n",
    "len(train_tag_count), len(test_tag_count)"
   ]
  },
  {
   "cell_type": "code",
   "execution_count": 37,
   "metadata": {},
   "outputs": [],
   "source": [
    "# 打印直方图\n",
    "def plot_histogram(x, y):\n",
    "    plt.subplots(figsize=(16, 9))\n",
    "    g = sns.barplot(x, y)\n",
    "    for index in range(len(x)): \n",
    "        g.text(index, y[index] + 10, y[index], color='black', ha=\"center\") "
   ]
  },
  {
   "cell_type": "code",
   "execution_count": 11,
   "metadata": {
    "scrolled": false
   },
   "outputs": [
    {
     "name": "stdout",
     "output_type": "stream",
     "text": [
      "【训练集】标签数据分布如下：\n",
      "address: 2829\n",
      "book: 1131\n",
      "company: 2897\n",
      "game: 2325\n",
      "government: 1797\n",
      "movie: 1109\n",
      "name: 3661\n",
      "organization: 3075\n",
      "position: 3052\n",
      "scene: 1462\n"
     ]
    },
    {
     "data": {
      "text/plain": "<Figure size 1152x648 with 1 Axes>",
      "image/png": "[encoded data removed]"
     },
     "metadata": {
      "needs_background": "light"
     },
     "output_type": "display_data"
    }
   ],
   "source": [
    "print(\"【训练集】标签数据分布如下：\")\n",
    "train_tag_count_items = sorted(\n",
    "    train_tag_count.items(), key=lambda x: x[0]\n",
    ")\n",
    "for (k, v) in train_tag_count_items:\n",
    "    print(f'{k}: {v}')\n",
    "    \n",
    "x = [x[0] for x in train_tag_count_items]\n",
    "y = [x[1] for x in train_tag_count_items]\n",
    "    \n",
    "plot_histogram(x, y)"
   ]
  },
  {
   "cell_type": "code",
   "execution_count": 38,
   "metadata": {},
   "outputs": [
    {
     "ename": "NameError",
     "evalue": "name 'x' is not defined",
     "output_type": "error",
     "traceback": [
      "\u001B[0;31m---------------------------------------------------------------------------\u001B[0m",
      "\u001B[0;31mNameError\u001B[0m                                 Traceback (most recent call last)",
      "\u001B[0;32m/var/folders/96/0jnny1gj02j8pgfvb9by368m0000gn/T/ipykernel_64241/1220018236.py\u001B[0m in \u001B[0;36m<module>\u001B[0;34m\u001B[0m\n\u001B[1;32m      1\u001B[0m \u001B[0;31m# 训练数据标签分布饼图\u001B[0m\u001B[0;34m\u001B[0m\u001B[0;34m\u001B[0m\u001B[0;34m\u001B[0m\u001B[0m\n\u001B[1;32m      2\u001B[0m \u001B[0mplt\u001B[0m\u001B[0;34m.\u001B[0m\u001B[0mfigure\u001B[0m\u001B[0;34m(\u001B[0m\u001B[0mfigsize\u001B[0m\u001B[0;34m=\u001B[0m\u001B[0;34m[\u001B[0m\u001B[0;36m9\u001B[0m\u001B[0;34m,\u001B[0m\u001B[0;36m7\u001B[0m\u001B[0;34m]\u001B[0m\u001B[0;34m)\u001B[0m\u001B[0;34m\u001B[0m\u001B[0;34m\u001B[0m\u001B[0m\n\u001B[0;32m----> 3\u001B[0;31m \u001B[0mplt\u001B[0m\u001B[0;34m.\u001B[0m\u001B[0mpie\u001B[0m\u001B[0;34m(\u001B[0m\u001B[0my\u001B[0m\u001B[0;34m,\u001B[0m \u001B[0mlabels\u001B[0m\u001B[0;34m=\u001B[0m\u001B[0mx\u001B[0m\u001B[0;34m,\u001B[0m \u001B[0mautopct\u001B[0m\u001B[0;34m=\u001B[0m\u001B[0;34m'%1.2f%%'\u001B[0m\u001B[0;34m)\u001B[0m\u001B[0;34m;\u001B[0m\u001B[0;34m\u001B[0m\u001B[0;34m\u001B[0m\u001B[0m\n\u001B[0m\u001B[1;32m      4\u001B[0m \u001B[0;34m\u001B[0m\u001B[0m\n",
      "\u001B[0;31mNameError\u001B[0m: name 'x' is not defined"
     ]
    },
    {
     "data": {
      "text/plain": "<Figure size 648x504 with 0 Axes>"
     },
     "metadata": {},
     "output_type": "display_data"
    }
   ],
   "source": [
    "# 训练数据标签分布饼图\n",
    "plt.figure(figsize=[9,7])\n",
    "plt.pie(y, labels=x, autopct='%1.2f%%');"
   ]
  },
  {
   "cell_type": "code",
   "execution_count": 13,
   "metadata": {
    "scrolled": false
   },
   "outputs": [
    {
     "name": "stdout",
     "output_type": "stream",
     "text": [
      "【测试集】标签数据分布如下：\n",
      "address: 364\n",
      "book: 152\n",
      "company: 366\n",
      "game: 287\n",
      "government: 244\n",
      "movie: 150\n",
      "name: 451\n",
      "organization: 344\n",
      "position: 425\n",
      "scene: 199\n"
     ]
    },
    {
     "data": {
      "text/plain": "<Figure size 1152x648 with 1 Axes>",
      "image/png": "[encoded data removed]"
     },
     "metadata": {
      "needs_background": "light"
     },
     "output_type": "display_data"
    }
   ],
   "source": [
    "print(\"【测试集】标签数据分布如下：\")\n",
    "test_tag_count_items = sorted(\n",
    "    test_tag_count.items(), key=lambda x: x[0]\n",
    ")\n",
    "for (k, v) in test_tag_count_items:\n",
    "    print(f'{k}: {v}')\n",
    "    \n",
    "x = [x[0] for x in test_tag_count_items]\n",
    "y = [x[1] for x in test_tag_count_items]\n",
    "    \n",
    "plot_histogram(x, y)"
   ]
  },
  {
   "cell_type": "code",
   "execution_count": 39,
   "metadata": {
    "scrolled": false
   },
   "outputs": [
    {
     "ename": "NameError",
     "evalue": "name 'x' is not defined",
     "output_type": "error",
     "traceback": [
      "\u001B[0;31m---------------------------------------------------------------------------\u001B[0m",
      "\u001B[0;31mNameError\u001B[0m                                 Traceback (most recent call last)",
      "\u001B[0;32m/var/folders/96/0jnny1gj02j8pgfvb9by368m0000gn/T/ipykernel_64241/2985431486.py\u001B[0m in \u001B[0;36m<module>\u001B[0;34m\u001B[0m\n\u001B[1;32m      1\u001B[0m \u001B[0;31m# 测试数据分布饼图\u001B[0m\u001B[0;34m\u001B[0m\u001B[0;34m\u001B[0m\u001B[0;34m\u001B[0m\u001B[0m\n\u001B[1;32m      2\u001B[0m \u001B[0mplt\u001B[0m\u001B[0;34m.\u001B[0m\u001B[0mfigure\u001B[0m\u001B[0;34m(\u001B[0m\u001B[0mfigsize\u001B[0m\u001B[0;34m=\u001B[0m\u001B[0;34m[\u001B[0m\u001B[0;36m9\u001B[0m\u001B[0;34m,\u001B[0m\u001B[0;36m7\u001B[0m\u001B[0;34m]\u001B[0m\u001B[0;34m)\u001B[0m\u001B[0;34m\u001B[0m\u001B[0;34m\u001B[0m\u001B[0m\n\u001B[0;32m----> 3\u001B[0;31m \u001B[0mplt\u001B[0m\u001B[0;34m.\u001B[0m\u001B[0mpie\u001B[0m\u001B[0;34m(\u001B[0m\u001B[0my\u001B[0m\u001B[0;34m,\u001B[0m \u001B[0mlabels\u001B[0m\u001B[0;34m=\u001B[0m\u001B[0mx\u001B[0m\u001B[0;34m,\u001B[0m \u001B[0mautopct\u001B[0m\u001B[0;34m=\u001B[0m\u001B[0;34m'%1.2f%%'\u001B[0m\u001B[0;34m)\u001B[0m\u001B[0;34m;\u001B[0m\u001B[0;34m\u001B[0m\u001B[0;34m\u001B[0m\u001B[0m\n\u001B[0m\u001B[1;32m      4\u001B[0m \u001B[0;34m\u001B[0m\u001B[0m\n",
      "\u001B[0;31mNameError\u001B[0m: name 'x' is not defined"
     ]
    },
    {
     "data": {
      "text/plain": "<Figure size 648x504 with 0 Axes>"
     },
     "metadata": {},
     "output_type": "display_data"
    }
   ],
   "source": [
    "# 测试数据分布饼图\n",
    "plt.figure(figsize=[9,7])\n",
    "plt.pie(y, labels=x, autopct='%1.2f%%');"
   ]
  },
  {
   "cell_type": "markdown",
   "metadata": {},
   "source": [
    "#### 结论\n",
    "1. 标签分布不均衡，测试集中name最高为15.69%，最低movie为4.75%。  \n",
    "2. 训练集与测试集标签分布大体一致。"
   ]
  },
  {
   "cell_type": "markdown",
   "metadata": {},
   "source": [
    "### 3. 文本长度"
   ]
  },
  {
   "cell_type": "code",
   "execution_count": 15,
   "metadata": {},
   "outputs": [
    {
     "data": {
      "text/plain": "(10748, 1343)"
     },
     "execution_count": 15,
     "metadata": {},
     "output_type": "execute_result"
    }
   ],
   "source": [
    "train_texts = [sample['text'] for sample in train_samples]\n",
    "test_texts = [sample['text'] for sample in test_samples]\n",
    "len(train_texts), len(test_texts)"
   ]
  },
  {
   "cell_type": "code",
   "execution_count": 16,
   "metadata": {},
   "outputs": [],
   "source": [
    "train_text_lengths = [len(text) for text in train_texts]\n",
    "test_text_lengths = [len(text) for text in test_texts]"
   ]
  },
  {
   "cell_type": "code",
   "execution_count": 17,
   "metadata": {},
   "outputs": [
    {
     "data": {
      "text/plain": "<Figure size 648x504 with 1 Axes>",
      "image/png": "[encoded data removed]"
     },
     "metadata": {
      "needs_background": "light"
     },
     "output_type": "display_data"
    }
   ],
   "source": [
    "# 训练集文本长度分布\n",
    "plt.figure(figsize=[9,7])\n",
    "sns.distplot(train_text_lengths)\n",
    "plt.xlabel('length', fontsize=15)\n",
    "plt.ylabel('count', fontsize=15)\n",
    "plt.show()"
   ]
  },
  {
   "cell_type": "code",
   "execution_count": 18,
   "metadata": {
    "scrolled": true
   },
   "outputs": [
    {
     "data": {
      "text/plain": "<Figure size 648x504 with 1 Axes>",
      "image/png": "[encoded data removed]"
     },
     "metadata": {
      "needs_background": "light"
     },
     "output_type": "display_data"
    }
   ],
   "source": [
    "# 测试集文本长度分布\n",
    "plt.figure(figsize=[9,7])\n",
    "sns.distplot(test_text_lengths)\n",
    "plt.xlabel('length', fontsize=15)\n",
    "plt.ylabel('count', fontsize=15)\n",
    "plt.show()"
   ]
  },
  {
   "cell_type": "markdown",
   "metadata": {},
   "source": [
    "### 结论：\n",
    "1. 所有文本长度均小于50\n",
    "2. 训练集与测试集文本长度分布保持一致"
   ]
  },
  {
   "cell_type": "markdown",
   "metadata": {},
   "source": [
    "### 4. 高频内容\n",
    "统计每个标签内容的topN，查看标签的高频内容"
   ]
  },
  {
   "cell_type": "code",
   "execution_count": 19,
   "metadata": {},
   "outputs": [],
   "source": [
    "from collections import defaultdict, Counter\n",
    "\n",
    "tag_list = defaultdict(list)\n",
    "\n",
    "# 记录训练集每个标签下的所有实体词\n",
    "for sample in train_samples:\n",
    "    label = sample['label']\n",
    "    for tag, tag_detail in label.items():\n",
    "        tag_list[tag].extend(\n",
    "            [x.lower() for x in tag_detail.keys()]\n",
    "        )\n",
    "\n",
    "# 对每个标签内的实体词进行词频统计，统计出最频繁的100个\n",
    "tag_tops = defaultdict(list)\n",
    "for k, v in tag_list.items():\n",
    "    c = Counter(v)\n",
    "    for x in c.most_common(100):\n",
    "        tag_tops[k].append(x[0])"
   ]
  },
  {
   "cell_type": "code",
   "execution_count": 20,
   "metadata": {},
   "outputs": [
    {
     "data": {
      "text/html": [
       "<div>\n",
       "<style scoped>\n",
       "    .dataframe tbody tr th:only-of-type {\n",
       "        vertical-align: middle;\n",
       "    }\n",
       "\n",
       "    .dataframe tbody tr th {\n",
       "        vertical-align: top;\n",
       "    }\n",
       "\n",
       "    .dataframe thead th {\n",
       "        text-align: right;\n",
       "    }\n",
       "</style>\n",
       "<table border=\"1\" class=\"dataframe\">\n",
       "  <thead>\n",
       "    <tr style=\"text-align: right;\">\n",
       "      <th></th>\n",
       "      <th>name</th>\n",
       "      <th>company</th>\n",
       "      <th>game</th>\n",
       "      <th>organization</th>\n",
       "      <th>movie</th>\n",
       "      <th>address</th>\n",
       "      <th>position</th>\n",
       "      <th>government</th>\n",
       "      <th>scene</th>\n",
       "      <th>book</th>\n",
       "    </tr>\n",
       "  </thead>\n",
       "  <tbody>\n",
       "    <tr>\n",
       "      <th>0</th>\n",
       "      <td>姜山</td>\n",
       "      <td>招行</td>\n",
       "      <td>dota</td>\n",
       "      <td>英超</td>\n",
       "      <td>《海角七号》</td>\n",
       "      <td>北京</td>\n",
       "      <td>记者</td>\n",
       "      <td>央行</td>\n",
       "      <td>博物馆</td>\n",
       "      <td>大众软件</td>\n",
       "    </tr>\n",
       "    <tr>\n",
       "      <th>1</th>\n",
       "      <td>金石开</td>\n",
       "      <td>工行</td>\n",
       "      <td>war3</td>\n",
       "      <td>曼联</td>\n",
       "      <td>《画皮》</td>\n",
       "      <td>香港</td>\n",
       "      <td>专家</td>\n",
       "      <td>美军</td>\n",
       "      <td>巴厘岛</td>\n",
       "      <td>《大众软件》</td>\n",
       "    </tr>\n",
       "    <tr>\n",
       "      <th>2</th>\n",
       "      <td>金庸</td>\n",
       "      <td>建行</td>\n",
       "      <td>dota2</td>\n",
       "      <td>意甲</td>\n",
       "      <td>《查理的战争》</td>\n",
       "      <td>上海</td>\n",
       "      <td>主持人</td>\n",
       "      <td>银监会</td>\n",
       "      <td>海渔广场</td>\n",
       "      <td>《电脑游戏攻略》</td>\n",
       "    </tr>\n",
       "    <tr>\n",
       "      <th>3</th>\n",
       "      <td>陆慧明</td>\n",
       "      <td>招商银行</td>\n",
       "      <td>星际2</td>\n",
       "      <td>罗马</td>\n",
       "      <td>《生化危机4》</td>\n",
       "      <td>深圳</td>\n",
       "      <td>艺术家</td>\n",
       "      <td>海军</td>\n",
       "      <td>洱海</td>\n",
       "      <td>《gameinformer》</td>\n",
       "    </tr>\n",
       "    <tr>\n",
       "      <th>4</th>\n",
       "      <td>于海</td>\n",
       "      <td>立博</td>\n",
       "      <td>魔兽</td>\n",
       "      <td>联盟杯</td>\n",
       "      <td>《保持通话》</td>\n",
       "      <td>台湾</td>\n",
       "      <td>导演</td>\n",
       "      <td>德军</td>\n",
       "      <td>林达海渔广场</td>\n",
       "      <td>《红楼梦》</td>\n",
       "    </tr>\n",
       "    <tr>\n",
       "      <th>5</th>\n",
       "      <td>詹俊</td>\n",
       "      <td>暴雪</td>\n",
       "      <td>星际争霸2</td>\n",
       "      <td>阿森纳</td>\n",
       "      <td>《魔法奇缘》</td>\n",
       "      <td>广州</td>\n",
       "      <td>总经理</td>\n",
       "      <td>空军</td>\n",
       "      <td>盖蒂博物馆</td>\n",
       "      <td>《艺术与投资》</td>\n",
       "    </tr>\n",
       "    <tr>\n",
       "      <th>6</th>\n",
       "      <td>曹鹏飞</td>\n",
       "      <td>博彩公司</td>\n",
       "      <td>魔兽争霸3</td>\n",
       "      <td>切尔西</td>\n",
       "      <td>《赎罪》</td>\n",
       "      <td>美国</td>\n",
       "      <td>主任</td>\n",
       "      <td>俄军</td>\n",
       "      <td>鸟巢</td>\n",
       "      <td>《每日经济新闻》</td>\n",
       "    </tr>\n",
       "    <tr>\n",
       "      <th>7</th>\n",
       "      <td>盖蒂</td>\n",
       "      <td>花旗</td>\n",
       "      <td>cs</td>\n",
       "      <td>欧冠</td>\n",
       "      <td>《纳尼亚传奇2》</td>\n",
       "      <td>纽约</td>\n",
       "      <td>学生</td>\n",
       "      <td>美国政府</td>\n",
       "      <td>美术馆</td>\n",
       "      <td>理财周报</td>\n",
       "    </tr>\n",
       "    <tr>\n",
       "      <th>8</th>\n",
       "      <td>infi</td>\n",
       "      <td>bet365</td>\n",
       "      <td>imba</td>\n",
       "      <td>利物浦</td>\n",
       "      <td>变形金刚</td>\n",
       "      <td>金融街</td>\n",
       "      <td>负责人</td>\n",
       "      <td>财政部</td>\n",
       "      <td>长滩岛</td>\n",
       "      <td>每经</td>\n",
       "    </tr>\n",
       "    <tr>\n",
       "      <th>9</th>\n",
       "      <td>黄胄</td>\n",
       "      <td>交行</td>\n",
       "      <td>魔兽3</td>\n",
       "      <td>拉齐奥</td>\n",
       "      <td>《夺宝奇兵4》</td>\n",
       "      <td>丽泽商务区</td>\n",
       "      <td>选手</td>\n",
       "      <td>美国陆军</td>\n",
       "      <td>泸沽湖</td>\n",
       "      <td>晨报</td>\n",
       "    </tr>\n",
       "  </tbody>\n",
       "</table>\n",
       "</div>"
      ],
      "text/plain": [
       "   name company   game organization     movie address position government  \\\n",
       "0    姜山      招行   dota           英超    《海角七号》      北京       记者         央行   \n",
       "1   金石开      工行   war3           曼联      《画皮》      香港       专家         美军   \n",
       "2    金庸      建行  dota2           意甲   《查理的战争》      上海      主持人        银监会   \n",
       "3   陆慧明    招商银行    星际2           罗马   《生化危机4》      深圳      艺术家         海军   \n",
       "4    于海      立博     魔兽          联盟杯    《保持通话》      台湾       导演         德军   \n",
       "5    詹俊      暴雪  星际争霸2          阿森纳    《魔法奇缘》      广州      总经理         空军   \n",
       "6   曹鹏飞    博彩公司  魔兽争霸3          切尔西      《赎罪》      美国       主任         俄军   \n",
       "7    盖蒂      花旗     cs           欧冠  《纳尼亚传奇2》      纽约       学生       美国政府   \n",
       "8  infi  bet365   imba          利物浦      变形金刚     金融街      负责人        财政部   \n",
       "9    黄胄      交行    魔兽3          拉齐奥   《夺宝奇兵4》   丽泽商务区       选手       美国陆军   \n",
       "\n",
       "    scene            book  \n",
       "0     博物馆            大众软件  \n",
       "1     巴厘岛          《大众软件》  \n",
       "2    海渔广场        《电脑游戏攻略》  \n",
       "3      洱海  《gameinformer》  \n",
       "4  林达海渔广场           《红楼梦》  \n",
       "5   盖蒂博物馆         《艺术与投资》  \n",
       "6      鸟巢        《每日经济新闻》  \n",
       "7     美术馆            理财周报  \n",
       "8     长滩岛              每经  \n",
       "9     泸沽湖              晨报  "
      ]
     },
     "execution_count": 20,
     "metadata": {},
     "output_type": "execute_result"
    }
   ],
   "source": [
    "# 使用pandas df展示结果\n",
    "tag_df = pd.DataFrame(tag_tops)\n",
    "tag_df.head(10)"
   ]
  },
  {
   "cell_type": "code",
   "execution_count": null,
   "metadata": {},
   "outputs": [],
   "source": []
  }
 ],
 "metadata": {
  "kernelspec": {
   "name": "pycharm-b35e09b3",
   "language": "python",
   "display_name": "PyCharm (Chapter.4)"
  },
  "language_info": {
   "codemirror_mode": {
    "name": "ipython",
    "version": 3
   },
   "file_extension": ".py",
   "mimetype": "text/x-python",
   "name": "python",
   "nbconvert_exporter": "python",
   "pygments_lexer": "ipython3",
   "version": "3.8.10"
  }
 },
 "nbformat": 4,
 "nbformat_minor": 2
}